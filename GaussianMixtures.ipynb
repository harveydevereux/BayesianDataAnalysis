{
 "cells": [
  {
   "cell_type": "code",
   "execution_count": 2,
   "metadata": {},
   "outputs": [],
   "source": [
    "using Plots\n",
    "using Distributions\n",
    "\n",
    "μ₁=1.0\n",
    "σ₁=1.0\n",
    "μ₂=10.0\n",
    "σ₂=2.0\n",
    "N1 = Normal(μ₁,σ₁)\n",
    "N2 = Normal(μ₂,σ₂)\n",
    "N = Int(1e6)\n",
    "D = cat(rand(N1,N),rand(N2,N),dims=1);\n",
    "\n",
    "bins = collect(minimum(D):0.1:maximum(D))\n",
    "pdf = zeros(size(bins,1))\n",
    "[pdf[i] = sum(((D.<bins[i+1]) .+ (D.>bins[i])) .== 2) for i in 1:size(bins,1)-1];\n",
    "\n",
    "plot(bins,pdf./size(D,1),label=\"PDF\")\n",
    "vline!([median(D)],label=\"Median\")\n",
    "vline!([mean(D)],label=\"Mean\")\n",
    "vline!([bins[argmax(pdf)]],label=\"Mode\")"
   ]
  }
 ],
 "metadata": {
  "kernelspec": {
   "display_name": "Julia 1.3.1",
   "language": "julia",
   "name": "julia-1.3"
  },
  "language_info": {
   "file_extension": ".jl",
   "mimetype": "application/julia",
   "name": "julia",
   "version": "1.3.1"
  }
 },
 "nbformat": 4,
 "nbformat_minor": 2
}
